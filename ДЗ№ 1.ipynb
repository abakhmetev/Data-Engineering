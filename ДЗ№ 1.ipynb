{
 "cells": [
  {
   "attachments": {},
   "cell_type": "markdown",
   "id": "c2a7fa5d",
   "metadata": {},
   "source": [
    "#### Задание №1"
   ]
  },
  {
   "cell_type": "code",
   "execution_count": 1,
   "id": "64f044e9",
   "metadata": {},
   "outputs": [],
   "source": [
    "from zipfile import ZipFile\n",
    "from pathlib import Path\n",
    "import json\n",
    "import orjson\n",
    "import pandas as pd\n",
    "import numpy as np\n",
    "import io\n",
    "import sqlite3\n",
    "from tqdm.notebook import tqdm"
   ]
  },
  {
   "cell_type": "code",
   "execution_count": 7,
   "id": "53ac5436",
   "metadata": {},
   "outputs": [],
   "source": [
    "# pip install ipywidgets"
   ]
  },
  {
   "cell_type": "code",
   "execution_count": 22,
   "id": "84e6cbaf",
   "metadata": {},
   "outputs": [],
   "source": [
    "# получаем список файлов в архиве\n",
    "zip_file = ZipFile('okved_2.json.zip' , 'r')\n",
    "list_files = [text_file.filename for text_file in zip_file.infolist()]"
   ]
  },
  {
   "cell_type": "code",
   "execution_count": 23,
   "id": "bed48707",
   "metadata": {},
   "outputs": [],
   "source": [
    "# чтение каждого файла в архиве без его распаковки\n",
    "for i in list_files:\n",
    "    with ZipFile('okved_2.json.zip' , 'r') as archive:\n",
    "        content = pd.read_json(io.BytesIO(archive.read(i)),dtype={\n",
    "                            'code':str,\n",
    "                            'parent_code': str,\n",
    "                            'section': str,\n",
    "                            'name': str,\n",
    "                            'comment': str})"
   ]
  },
  {
   "cell_type": "code",
   "execution_count": 24,
   "id": "d24ab1fb",
   "metadata": {},
   "outputs": [
    {
     "name": "stdout",
     "output_type": "stream",
     "text": [
      "<class 'pandas.core.frame.DataFrame'>\n",
      "RangeIndex: 2818 entries, 0 to 2817\n",
      "Data columns (total 5 columns):\n",
      " #   Column       Non-Null Count  Dtype \n",
      "---  ------       --------------  ----- \n",
      " 0   code         2818 non-null   object\n",
      " 1   parent_code  2818 non-null   object\n",
      " 2   section      2818 non-null   object\n",
      " 3   name         2818 non-null   object\n",
      " 4   comment      2818 non-null   object\n",
      "dtypes: object(5)\n",
      "memory usage: 110.2+ KB\n"
     ]
    }
   ],
   "source": [
    "content.info()"
   ]
  },
  {
   "cell_type": "code",
   "execution_count": 32,
   "id": "ec159c2f",
   "metadata": {},
   "outputs": [],
   "source": [
    "# создание БД\n",
    "connection = sqlite3.connect('hw1.db')"
   ]
  },
  {
   "cell_type": "code",
   "execution_count": 33,
   "id": "6db79309",
   "metadata": {},
   "outputs": [
    {
     "data": {
      "text/html": [
       "<div>\n",
       "<style scoped>\n",
       "    .dataframe tbody tr th:only-of-type {\n",
       "        vertical-align: middle;\n",
       "    }\n",
       "\n",
       "    .dataframe tbody tr th {\n",
       "        vertical-align: top;\n",
       "    }\n",
       "\n",
       "    .dataframe thead th {\n",
       "        text-align: right;\n",
       "    }\n",
       "</style>\n",
       "<table border=\"1\" class=\"dataframe\">\n",
       "  <thead>\n",
       "    <tr style=\"text-align: right;\">\n",
       "      <th></th>\n",
       "      <th>COUNT(*)</th>\n",
       "    </tr>\n",
       "  </thead>\n",
       "  <tbody>\n",
       "    <tr>\n",
       "      <th>0</th>\n",
       "      <td>2818</td>\n",
       "    </tr>\n",
       "  </tbody>\n",
       "</table>\n",
       "</div>"
      ],
      "text/plain": [
       "   COUNT(*)\n",
       "0      2818"
      ]
     },
     "execution_count": 33,
     "metadata": {},
     "output_type": "execute_result"
    }
   ],
   "source": [
    "content.to_sql('okved', \n",
    "             connection, \n",
    "             if_exists='append',\n",
    "             index=False)\n",
    "\n",
    "# Фиксируем изменения\n",
    "connection.commit()\n",
    "# проверка кол-ва записей в БД\n",
    "pd.read_sql(\"SELECT COUNT(*) FROM okved\", connection)"
   ]
  },
  {
   "cell_type": "code",
   "execution_count": 34,
   "id": "1ce9dd2b",
   "metadata": {},
   "outputs": [],
   "source": [
    "# Закрываем соединение\n",
    "connection.close()"
   ]
  },
  {
   "attachments": {},
   "cell_type": "markdown",
   "id": "42d3159a",
   "metadata": {},
   "source": [
    "#### Задание №2"
   ]
  },
  {
   "cell_type": "code",
   "execution_count": 2,
   "id": "001da877",
   "metadata": {},
   "outputs": [
    {
     "data": {
      "application/vnd.jupyter.widget-view+json": {
       "model_id": "8709998864be43688989a6a49d37f4f4",
       "version_major": 2,
       "version_minor": 0
      },
      "text/plain": [
       "0it [00:00, ?it/s]"
      ]
     },
     "metadata": {},
     "output_type": "display_data"
    }
   ],
   "source": [
    "# Вариант 1. Обработка файлов по одному с распаковкой\n",
    "pbar = tqdm()\n",
    "black_list = []\n",
    "df_full = pd.DataFrame(columns=['ogrn','inn','kpp','name','full_name','data.СвОКВЭД.СвОКВЭДОсн.КодОКВЭД'])\n",
    "with ZipFile(r'C:\\WORK\\STUDY\\MIPT\\ДЗ\\1\\egrul.json.zip') as zipobj:\n",
    "    file_names = zipobj.namelist()\n",
    "    pbar.reset(total=len(file_names))\n",
    "    for name in file_names:\n",
    "        # Распаковываем один файл\n",
    "        zipobj.extract(name)\n",
    "        # Обрабатываем файл\n",
    "        with io.open(name, 'r', encoding='utf-8') as read_file:\n",
    "            json_str = read_file.read()\n",
    "            df = pd.json_normalize(orjson.loads(json_str))\n",
    "            if 'data.СвОКВЭД.СвОКВЭДОсн.КодОКВЭД' in df.columns.values.tolist():\n",
    "                df = df[df['data.СвОКВЭД.СвОКВЭДОсн.КодОКВЭД'].str.contains('^61').fillna(False)][['ogrn','inn','kpp','name','full_name','data.СвОКВЭД.СвОКВЭДОсн.КодОКВЭД']]\n",
    "                df = df.astype({'ogrn':str,'inn': str,'kpp': str,'name': str,'full_name': str,'data.СвОКВЭД.СвОКВЭДОсн.КодОКВЭД': str})\n",
    "                df_full = pd.concat([df_full, df], ignore_index=True, sort=False)\n",
    "            else:\n",
    "                black_list.append(name)\n",
    "        pbar.update()        \n",
    "        # Удаляем файл\n",
    "        path = Path(name)\n",
    "        path.unlink()\n",
    "pbar.refresh()\n",
    "connection = sqlite3.connect('hw1.db')\n",
    "df_full.to_sql('telecom_companies', \n",
    "                 connection, \n",
    "                 if_exists='append',\n",
    "                 index=False)\n",
    "with open('black_list.txt', 'w', encoding='UTF-8') as f:\n",
    "    f.write(str(black_list))"
   ]
  },
  {
   "cell_type": "code",
   "execution_count": null,
   "id": "65851bd8",
   "metadata": {},
   "outputs": [],
   "source": [
    "# Вариант 2. Обработка файлов по одному без его распаковки\n",
    "pbar = tqdm()\n",
    "black_list = []\n",
    "df_full = pd.DataFrame(columns=['ogrn','inn','kpp','name','full_name','data.СвОКВЭД.СвОКВЭДОсн.КодОКВЭД'])\n",
    "with ZipFile(r'C:\\WORK\\STUDY\\MIPT\\ДЗ\\1\\egrul.json.zip') as zipobj:\n",
    "    file_names = zipobj.namelist()\n",
    "    pbar.reset(total=len(file_names))\n",
    "    for name in file_names:\n",
    "        # Считываем файл из архива в bites, формируем в json, нормализуем json для Pandas\n",
    "        df = pd.json_normalize(orjson.loads(zipobj.read(name)))\n",
    "        if 'data.СвОКВЭД.СвОКВЭДОсн.КодОКВЭД' in df.columns.values.tolist():\n",
    "            df = df[df['data.СвОКВЭД.СвОКВЭДОсн.КодОКВЭД'].str.contains('^61').fillna(False)][['ogrn','inn','kpp','name','full_name','data.СвОКВЭД.СвОКВЭДОсн.КодОКВЭД']]\n",
    "            df = df.astype({'ogrn':str,'inn': str,'kpp': str,'name': str,'full_name': str,'data.СвОКВЭД.СвОКВЭДОсн.КодОКВЭД': str})\n",
    "            df_full = pd.concat([df_full, df], ignore_index=True, sort=False)\n",
    "        else:\n",
    "            black_list.append(name) \n",
    "        pbar.update()                \n",
    "pbar.refresh()\n",
    "\n",
    "connection = sqlite3.connect('hw1.db')\n",
    "df_full.to_sql('telecom_companies', \n",
    "                 connection, \n",
    "                 if_exists='append',\n",
    "                 index=False)\n",
    "with open('black_list.txt', 'w', encoding='UTF-8') as f:\n",
    "    f.write(str(black_list))"
   ]
  },
  {
   "cell_type": "code",
   "execution_count": 3,
   "id": "ed45de29",
   "metadata": {},
   "outputs": [
    {
     "data": {
      "text/html": [
       "<div>\n",
       "<style scoped>\n",
       "    .dataframe tbody tr th:only-of-type {\n",
       "        vertical-align: middle;\n",
       "    }\n",
       "\n",
       "    .dataframe tbody tr th {\n",
       "        vertical-align: top;\n",
       "    }\n",
       "\n",
       "    .dataframe thead th {\n",
       "        text-align: right;\n",
       "    }\n",
       "</style>\n",
       "<table border=\"1\" class=\"dataframe\">\n",
       "  <thead>\n",
       "    <tr style=\"text-align: right;\">\n",
       "      <th></th>\n",
       "      <th>COUNT(*)</th>\n",
       "    </tr>\n",
       "  </thead>\n",
       "  <tbody>\n",
       "    <tr>\n",
       "      <th>0</th>\n",
       "      <td>20917</td>\n",
       "    </tr>\n",
       "  </tbody>\n",
       "</table>\n",
       "</div>"
      ],
      "text/plain": [
       "   COUNT(*)\n",
       "0     20917"
      ]
     },
     "execution_count": 3,
     "metadata": {},
     "output_type": "execute_result"
    }
   ],
   "source": [
    "# Фиксируем изменения\n",
    "connection.commit()\n",
    "# проверка кол-ва записей в БД\n",
    "pd.read_sql(\"SELECT COUNT(*) FROM telecom_companies\", connection)"
   ]
  },
  {
   "cell_type": "code",
   "execution_count": 5,
   "id": "4a7e5884",
   "metadata": {},
   "outputs": [],
   "source": [
    "# Закрываем соединение\n",
    "connection.close()"
   ]
  },
  {
   "cell_type": "code",
   "execution_count": 4,
   "id": "d3f4153f",
   "metadata": {},
   "outputs": [
    {
     "data": {
      "text/html": [
       "<div>\n",
       "<style scoped>\n",
       "    .dataframe tbody tr th:only-of-type {\n",
       "        vertical-align: middle;\n",
       "    }\n",
       "\n",
       "    .dataframe tbody tr th {\n",
       "        vertical-align: top;\n",
       "    }\n",
       "\n",
       "    .dataframe thead th {\n",
       "        text-align: right;\n",
       "    }\n",
       "</style>\n",
       "<table border=\"1\" class=\"dataframe\">\n",
       "  <thead>\n",
       "    <tr style=\"text-align: right;\">\n",
       "      <th></th>\n",
       "      <th>ogrn</th>\n",
       "      <th>inn</th>\n",
       "      <th>kpp</th>\n",
       "      <th>name</th>\n",
       "      <th>full_name</th>\n",
       "      <th>data.СвОКВЭД.СвОКВЭДОсн.КодОКВЭД</th>\n",
       "    </tr>\n",
       "  </thead>\n",
       "  <tbody>\n",
       "    <tr>\n",
       "      <th>0</th>\n",
       "      <td>1114910000480</td>\n",
       "      <td>4909109443</td>\n",
       "      <td>490901001</td>\n",
       "      <td>ООО \"ИТЛАЙН\"</td>\n",
       "      <td>ОБЩЕСТВО С ОГРАНИЧЕННОЙ ОТВЕТСТВЕННОСТЬЮ \"ИТЛАЙН\"</td>\n",
       "      <td>61.10</td>\n",
       "    </tr>\n",
       "    <tr>\n",
       "      <th>1</th>\n",
       "      <td>1127847488053</td>\n",
       "      <td>7811531478</td>\n",
       "      <td>781101001</td>\n",
       "      <td>ООО \"СМО СИСТЕМА\"</td>\n",
       "      <td>ОБЩЕСТВО С ОГРАНИЧЕННОЙ ОТВЕТСТВЕННОСТЬЮ \"СМО ...</td>\n",
       "      <td>61.30</td>\n",
       "    </tr>\n",
       "    <tr>\n",
       "      <th>2</th>\n",
       "      <td>1197536005787</td>\n",
       "      <td>7536178239</td>\n",
       "      <td>753601001</td>\n",
       "      <td>ООО \"ИНТЕР КОД\"</td>\n",
       "      <td>ОБЩЕСТВО С ОГРАНИЧЕННОЙ ОТВЕТСТВЕННОСТЬЮ \"ИНТЕ...</td>\n",
       "      <td>61.90</td>\n",
       "    </tr>\n",
       "    <tr>\n",
       "      <th>3</th>\n",
       "      <td>1197536005919</td>\n",
       "      <td>7513007283</td>\n",
       "      <td>751301001</td>\n",
       "      <td>ООО \"ВОНГОЛА\"</td>\n",
       "      <td>ОБЩЕСТВО С ОГРАНИЧЕННОЙ ОТВЕТСТВЕННОСТЬЮ \"ВОНГ...</td>\n",
       "      <td>61.10</td>\n",
       "    </tr>\n",
       "    <tr>\n",
       "      <th>4</th>\n",
       "      <td>1197627000691</td>\n",
       "      <td>7604352760</td>\n",
       "      <td>760401001</td>\n",
       "      <td>ООО \"РЭС\"</td>\n",
       "      <td>ОБЩЕСТВО С ОГРАНИЧЕННОЙ ОТВЕТСТВЕННОСТЬЮ \"РИНГ...</td>\n",
       "      <td>61.10</td>\n",
       "    </tr>\n",
       "    <tr>\n",
       "      <th>...</th>\n",
       "      <td>...</td>\n",
       "      <td>...</td>\n",
       "      <td>...</td>\n",
       "      <td>...</td>\n",
       "      <td>...</td>\n",
       "      <td>...</td>\n",
       "    </tr>\n",
       "    <tr>\n",
       "      <th>20912</th>\n",
       "      <td>1111902001694</td>\n",
       "      <td>1902024322</td>\n",
       "      <td>190201001</td>\n",
       "      <td>ООО \"САЯНСВЯЗЬ\"</td>\n",
       "      <td>ОБЩЕСТВО С ОГРАНИЧЕННОЙ ОТВЕТСТВЕННОСТЬЮ \"САЯН...</td>\n",
       "      <td>61.10.1</td>\n",
       "    </tr>\n",
       "    <tr>\n",
       "      <th>20913</th>\n",
       "      <td>1112031001422</td>\n",
       "      <td>2016001613</td>\n",
       "      <td>201601001</td>\n",
       "      <td>ООО \"АВТО-НАВИГАТОР\"</td>\n",
       "      <td>ОБЩЕСТВО С ОГРАНИЧЕННОЙ ОТВЕТСТВЕННОСТЬЮ \"АВТО...</td>\n",
       "      <td>61.1</td>\n",
       "    </tr>\n",
       "    <tr>\n",
       "      <th>20914</th>\n",
       "      <td>1112031002038</td>\n",
       "      <td>2014005080</td>\n",
       "      <td>201401001</td>\n",
       "      <td>ООО \"ГАРАНТТОРГ\"</td>\n",
       "      <td>ОБЩЕСТВО С ОГРАНИЧЕННОЙ ОТВЕТСТВЕННОСТЬЮ \"ГАРА...</td>\n",
       "      <td>61.10</td>\n",
       "    </tr>\n",
       "    <tr>\n",
       "      <th>20915</th>\n",
       "      <td>1112031003831</td>\n",
       "      <td>2014005877</td>\n",
       "      <td>201401001</td>\n",
       "      <td>ООО \"РЕАС\"</td>\n",
       "      <td>ОБЩЕСТВО С ОГРАНИЧЕННОЙ ОТВЕТСТВЕННОСТЬЮ \"РЕАС\"</td>\n",
       "      <td>61.10</td>\n",
       "    </tr>\n",
       "    <tr>\n",
       "      <th>20916</th>\n",
       "      <td>1037861007799</td>\n",
       "      <td>7838003370</td>\n",
       "      <td>470501001</td>\n",
       "      <td>ООО \"РЭЙС СЕВЕРО-ЗАПАД\"</td>\n",
       "      <td>ОБЩЕСТВО С ОГРАНИЧЕННОЙ ОТВЕТСТВЕННОСТЬЮ \"РЭЙС...</td>\n",
       "      <td>61.10.1</td>\n",
       "    </tr>\n",
       "  </tbody>\n",
       "</table>\n",
       "<p>20917 rows × 6 columns</p>\n",
       "</div>"
      ],
      "text/plain": [
       "                ogrn         inn        kpp                     name  \\\n",
       "0      1114910000480  4909109443  490901001             ООО \"ИТЛАЙН\"   \n",
       "1      1127847488053  7811531478  781101001        ООО \"СМО СИСТЕМА\"   \n",
       "2      1197536005787  7536178239  753601001          ООО \"ИНТЕР КОД\"   \n",
       "3      1197536005919  7513007283  751301001            ООО \"ВОНГОЛА\"   \n",
       "4      1197627000691  7604352760  760401001                ООО \"РЭС\"   \n",
       "...              ...         ...        ...                      ...   \n",
       "20912  1111902001694  1902024322  190201001          ООО \"САЯНСВЯЗЬ\"   \n",
       "20913  1112031001422  2016001613  201601001     ООО \"АВТО-НАВИГАТОР\"   \n",
       "20914  1112031002038  2014005080  201401001         ООО \"ГАРАНТТОРГ\"   \n",
       "20915  1112031003831  2014005877  201401001               ООО \"РЕАС\"   \n",
       "20916  1037861007799  7838003370  470501001  ООО \"РЭЙС СЕВЕРО-ЗАПАД\"   \n",
       "\n",
       "                                               full_name  \\\n",
       "0      ОБЩЕСТВО С ОГРАНИЧЕННОЙ ОТВЕТСТВЕННОСТЬЮ \"ИТЛАЙН\"   \n",
       "1      ОБЩЕСТВО С ОГРАНИЧЕННОЙ ОТВЕТСТВЕННОСТЬЮ \"СМО ...   \n",
       "2      ОБЩЕСТВО С ОГРАНИЧЕННОЙ ОТВЕТСТВЕННОСТЬЮ \"ИНТЕ...   \n",
       "3      ОБЩЕСТВО С ОГРАНИЧЕННОЙ ОТВЕТСТВЕННОСТЬЮ \"ВОНГ...   \n",
       "4      ОБЩЕСТВО С ОГРАНИЧЕННОЙ ОТВЕТСТВЕННОСТЬЮ \"РИНГ...   \n",
       "...                                                  ...   \n",
       "20912  ОБЩЕСТВО С ОГРАНИЧЕННОЙ ОТВЕТСТВЕННОСТЬЮ \"САЯН...   \n",
       "20913  ОБЩЕСТВО С ОГРАНИЧЕННОЙ ОТВЕТСТВЕННОСТЬЮ \"АВТО...   \n",
       "20914  ОБЩЕСТВО С ОГРАНИЧЕННОЙ ОТВЕТСТВЕННОСТЬЮ \"ГАРА...   \n",
       "20915    ОБЩЕСТВО С ОГРАНИЧЕННОЙ ОТВЕТСТВЕННОСТЬЮ \"РЕАС\"   \n",
       "20916  ОБЩЕСТВО С ОГРАНИЧЕННОЙ ОТВЕТСТВЕННОСТЬЮ \"РЭЙС...   \n",
       "\n",
       "      data.СвОКВЭД.СвОКВЭДОсн.КодОКВЭД  \n",
       "0                                61.10  \n",
       "1                                61.30  \n",
       "2                                61.90  \n",
       "3                                61.10  \n",
       "4                                61.10  \n",
       "...                                ...  \n",
       "20912                          61.10.1  \n",
       "20913                             61.1  \n",
       "20914                            61.10  \n",
       "20915                            61.10  \n",
       "20916                          61.10.1  \n",
       "\n",
       "[20917 rows x 6 columns]"
      ]
     },
     "execution_count": 4,
     "metadata": {},
     "output_type": "execute_result"
    }
   ],
   "source": [
    "df_full"
   ]
  },
  {
   "cell_type": "code",
   "execution_count": 6,
   "id": "33758854",
   "metadata": {},
   "outputs": [],
   "source": [
    "df_full.to_csv('df_full.csv')"
   ]
  },
  {
   "cell_type": "code",
   "execution_count": null,
   "id": "eab5fb5d",
   "metadata": {},
   "outputs": [],
   "source": []
  }
 ],
 "metadata": {
  "kernelspec": {
   "display_name": "Python 3 (ipykernel)",
   "language": "python",
   "name": "python3"
  },
  "language_info": {
   "codemirror_mode": {
    "name": "ipython",
    "version": 3
   },
   "file_extension": ".py",
   "mimetype": "text/x-python",
   "name": "python",
   "nbconvert_exporter": "python",
   "pygments_lexer": "ipython3",
   "version": "3.10.10"
  }
 },
 "nbformat": 4,
 "nbformat_minor": 5
}
